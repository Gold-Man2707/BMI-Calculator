{
  "nbformat": 4,
  "nbformat_minor": 0,
  "metadata": {
    "colab": {
      "provenance": [],
      "toc_visible": true,
      "authorship_tag": "ABX9TyPO/65J7IoXF89Qcs1w4139",
      "include_colab_link": true
    },
    "kernelspec": {
      "name": "python3",
      "display_name": "Python 3"
    },
    "language_info": {
      "name": "python"
    }
  },
  "cells": [
    {
      "cell_type": "markdown",
      "metadata": {
        "id": "view-in-github",
        "colab_type": "text"
      },
      "source": [
        "<a href=\"https://colab.research.google.com/github/Gold-Man2707/BMI-Calculator/blob/main/Copy_of_Assignment.ipynb\" target=\"_parent\"><img src=\"https://colab.research.google.com/assets/colab-badge.svg\" alt=\"Open In Colab\"/></a>"
      ]
    },
    {
      "cell_type": "code",
      "execution_count": 2,
      "metadata": {
        "id": "JyqpiXVuFlkX",
        "colab": {
          "base_uri": "https://localhost:8080/"
        },
        "outputId": "7f87c5b7-773e-408b-e92d-efcdfa3c59ed"
      },
      "outputs": [
        {
          "output_type": "stream",
          "name": "stdout",
          "text": [
            "3\n"
          ]
        }
      ],
      "source": [
        "def binary_search(arr, target):\n",
        "    left, right = 0, len(arr) - 1\n",
        "\n",
        "    while left <= right:\n",
        "        mid = (left + right) // 2\n",
        "\n",
        "        if arr[mid] == target:\n",
        "            return mid\n",
        "        elif arr[mid] < target:\n",
        "            left = mid + 1\n",
        "        else:\n",
        "            right = mid - 1\n",
        "\n",
        "    return -1\n",
        "\n",
        "# Example usage:\n",
        "arr = [1, 3, 5, 7, 9, 11, 13]\n",
        "target = 7\n",
        "print(binary_search(arr, target))  # Output: 3\n"
      ]
    },
    {
      "cell_type": "code",
      "source": [
        "def factorial(n):\n",
        "    if not isinstance(n, int) or n < 0:\n",
        "        raise ValueError(\"Input must be a non-negative integer\")\n",
        "    if n == 0 or n == 1:\n",
        "        return 1\n",
        "    return n * factorial(n - 1)\n",
        "\n",
        "# Example usage:\n",
        "n = 5\n",
        "print(factorial(n))  # Output: 120\n"
      ],
      "metadata": {
        "id": "ZJ2bDm4WGOK_",
        "colab": {
          "base_uri": "https://localhost:8080/"
        },
        "outputId": "28d940b3-50be-470f-9e38-fa66915c47bf"
      },
      "execution_count": null,
      "outputs": [
        {
          "output_type": "stream",
          "name": "stdout",
          "text": [
            "120\n"
          ]
        }
      ]
    },
    {
      "cell_type": "code",
      "source": [
        "def sum_of_digits(n):\n",
        "    return sum(int(digit) for digit in str(abs(n)))\n",
        "\n",
        "# Example usage:\n",
        "num = 1234\n",
        "print(sum_of_digits(num))  # Output: 10\n"
      ],
      "metadata": {
        "id": "G1urcrVhGuU8",
        "colab": {
          "base_uri": "https://localhost:8080/"
        },
        "outputId": "aff4b443-3cd2-4fe1-ac19-38b9ffe455f5"
      },
      "execution_count": null,
      "outputs": [
        {
          "output_type": "stream",
          "name": "stdout",
          "text": [
            "10\n"
          ]
        }
      ]
    },
    {
      "cell_type": "code",
      "source": [
        "import string\n",
        "from collections import Counter\n",
        "\n",
        "def read_text_from_file(file_path):\n",
        "    \"\"\"Reads text from a file.\"\"\"\n",
        "    with open(file_path, 'r', encoding='utf-8') as file:\n",
        "        return file.read()\n",
        "\n",
        "def count_words(text):\n",
        "    \"\"\"Counts occurrences of words in the text, excluding common stop words.\"\"\"\n",
        "    stop_words = {\"the\", \"is\", \"in\", \"and\", \"to\", \"of\", \"a\", \"that\", \"it\", \"on\", \"for\",\n",
        "                  \"with\", \"as\", \"was\", \"at\", \"by\", \"an\", \"be\", \"this\", \"which\", \"or\", \"from\"}\n",
        "\n",
        "    # Remove punctuation and convert text to lowercase\n",
        "    words = text.lower().translate(str.maketrans('', '', string.punctuation)).split()\n",
        "\n",
        "    # Filter out stop words\n",
        "    filtered_words = [word for word in words if word not in stop_words]\n",
        "\n",
        "    return Counter(filtered_words)\n",
        "\n",
        "def print_word_count(word_count):\n",
        "    \"\"\"Prints the word count in descending order.\"\"\"\n",
        "    for word, count in word_count.most_common():\n",
        "        print(f\"{word}: {count}\")\n",
        "\n",
        "def main(file_path):\n",
        "    \"\"\"Reads the file, counts words, and prints the word count.\"\"\"\n",
        "    text = read_text_from_file(file_path)\n",
        "    word_count = count_words(text)\n",
        "    print_word_count(word_count)\n",
        "\n",
        "# Example usage:\n",
        "main(\"sample.txt\")  # Run this script to process the sample text file\n"
      ],
      "metadata": {
        "id": "y4pNnOS_Zncz"
      },
      "execution_count": null,
      "outputs": []
    },
    {
      "cell_type": "code",
      "source": [
        "def compress_string(s: str) -> str:\n",
        "    if not s:\n",
        "        return s\n",
        "\n",
        "    compressed = []\n",
        "    count = 1\n",
        "\n",
        "    # Iterate through the string\n",
        "    for i in range(1, len(s)):\n",
        "        if s[i] == s[i - 1]:  # Count consecutive characters\n",
        "            count += 1\n",
        "        else:\n",
        "            compressed.append(s[i - 1] + str(count))  # Append character and count\n",
        "            count = 1  # Reset count for new character\n",
        "\n",
        "    # Append last character and its count\n",
        "    compressed.append(s[-1] + str(count))\n",
        "\n",
        "    # Join list into string\n",
        "    compressed_str = ''.join(compressed)\n",
        "\n",
        "    # Return the original string if the compressed version isn't shorter\n",
        "    return compressed_str if len(compressed_str) < len(s) else s\n",
        "\n",
        "# Example usage:\n",
        "print(compress_string(\"aabcccccaaa\"))  # Output: \"a2b1c5a3\"\n",
        "print(compress_string(\"abc\"))          # Output: \"abc\"\n",
        "print(compress_string(\"aabbcc\"))       # Output: \"aabbcc\"\n",
        "print(compress_string(\"aaabbbaaa\"))    # Output: \"a3b3a3\"\n"
      ],
      "metadata": {
        "colab": {
          "base_uri": "https://localhost:8080/"
        },
        "id": "n6j7EdUocPIc",
        "outputId": "ce148691-8884-4e08-bf9d-693525c9d0c2"
      },
      "execution_count": null,
      "outputs": [
        {
          "output_type": "stream",
          "name": "stdout",
          "text": [
            "a2b1c5a3\n",
            "abc\n",
            "aabbcc\n",
            "a3b3a3\n"
          ]
        }
      ]
    },
    {
      "cell_type": "code",
      "source": [
        "# Prompting user input\n",
        "adj1 = input(\"Adjective: \")\n",
        "noun1 = input(\"Noun: \")\n",
        "noun2 = input(\"Noun: \")\n",
        "adj2 = input(\"Adjective: \")\n",
        "adj3 = input(\"Adjective: \")\n",
        "noun3 = input(\"Noun: \")\n",
        "noun4 = input(\"Noun: \")\n",
        "\n",
        "# Printing the output\n",
        "print()  # Print a blank line\n",
        "print(f\"A vacation is when you take a trip to some {adj1} place with your {adj2} family.\")\n",
        "print(f\"Usually you go to some place that is near a/an {noun1} or up on a/an {noun2}.\")\n",
        "print(f\"A vacation is when you take a trip to some {adj3} place with your {adj2} family.\")\n",
        "print(f\"Usually you go to some place that is near a/an {noun3} or up on a/an {noun4}.\")\n"
      ],
      "metadata": {
        "id": "fxlBWDRQmcs5"
      },
      "execution_count": null,
      "outputs": []
    },
    {
      "cell_type": "code",
      "source": [],
      "metadata": {
        "id": "1wDPMvyPrin3"
      },
      "execution_count": null,
      "outputs": []
    },
    {
      "cell_type": "code",
      "source": [
        "number = 74\n",
        "number2 = 123\n",
        "number3 = 456\n",
        "print(number**2)\n",
        "print(number**3)\n",
        "print(number/10)\n",
        "print(number+123)\n",
        "print(number-456)\n",
        "\n",
        "\n"
      ],
      "metadata": {
        "colab": {
          "base_uri": "https://localhost:8080/"
        },
        "id": "tE-Mic9Ci4w0",
        "outputId": "52f65755-db36-40c4-ce84-3a1e65c78964"
      },
      "execution_count": null,
      "outputs": [
        {
          "output_type": "stream",
          "name": "stdout",
          "text": [
            "5476\n",
            "405224\n",
            "7.4\n",
            "197\n",
            "-382\n"
          ]
        }
      ]
    },
    {
      "cell_type": "code",
      "source": [
        "import math\n",
        "\n",
        "def add(x, y):\n",
        "    return x + y\n",
        "\n",
        "def subtract(x, y):\n",
        "    return x - y\n",
        "\n",
        "def multiply(x, y):\n",
        "    return x * y\n",
        "\n",
        "def divide(x, y):\n",
        "    return x / y if y != 0 else \"Error: Division by zero\"\n",
        "\n",
        "def power(x, y):\n",
        "    return x ** y\n",
        "\n",
        "def sqrt(x):\n",
        "    return math.sqrt(x) if x >= 0 else \"Error: Square root of negative number\"\n",
        "\n",
        "def log(x, base=10):\n",
        "    return math.log(x, base) if x > 0 else \"Error: Logarithm of non-positive number\"\n",
        "\n",
        "def sin(x):\n",
        "    return math.sin(math.radians(x))\n",
        "\n",
        "def cos(x):\n",
        "    return math.cos(math.radians(x))\n",
        "\n",
        "def tan(x):\n",
        "    return math.tan(math.radians(x))\n",
        "\n",
        "def scientific_calculator():\n",
        "    print(\"\\nScientific Calculator\")\n",
        "    print(\"Operations: +, -, *, /, ^ (power), sqrt, log, sin, cos, tan, exit\")\n",
        "\n",
        "    while True:\n",
        "        operation = input(\"\\nEnter operation: \").strip().lower()\n",
        "\n",
        "        if operation in ('+', '-', '*', '/', '^'):\n",
        "            num1 = float(input(\"Enter first number: \"))\n",
        "            num2 = float(input(\"Enter second number: \"))\n",
        "\n",
        "            if operation == '+':\n",
        "                print(\"Result:\", add(num1, num2))\n",
        "            elif operation == '-':\n",
        "                print(\"Result:\", subtract(num1, num2))\n",
        "            elif operation == '*':\n",
        "                print(\"Result:\", multiply(num1, num2))\n",
        "            elif operation == '/':\n",
        "                print(\"Result:\", divide(num1, num2))\n",
        "            elif operation == '^':\n",
        "                print(\"Result:\", power(num1, num2))\n",
        "\n",
        "        elif operation in ('sqrt', 'log', 'sin', 'cos', 'tan'):\n",
        "            num = float(input(\"Enter number: \"))\n",
        "\n",
        "            if operation == 'sqrt':\n",
        "                print(\"Result:\", sqrt(num))\n",
        "            elif operation == 'log':\n",
        "                base = float(input(\"Enter base (default is 10): \") or 10)\n",
        "                print(\"Result:\", log(num, base))\n",
        "            elif operation == 'sin':\n",
        "                print(\"Result:\", sin(num))\n",
        "            elif operation == 'cos':\n",
        "                print(\"Result:\", cos(num))\n",
        "            elif operation == 'tan':\n",
        "                print(\"Result:\", tan(num))\n",
        "\n",
        "        elif operation == 'exit':\n",
        "            print(\"Exiting calculator...\")\n",
        "            break\n",
        "        else:\n",
        "            print(\"Invalid operation! Try again.\")\n",
        "\n",
        "# Run the calculator\n",
        "scientific_calculator()\n"
      ],
      "metadata": {
        "colab": {
          "base_uri": "https://localhost:8080/"
        },
        "id": "xRXo2RcNrj04",
        "outputId": "098ef731-b7ad-4faf-e0fa-93b7bbabe6da"
      },
      "execution_count": null,
      "outputs": [
        {
          "metadata": {
            "tags": null
          },
          "name": "stdout",
          "output_type": "stream",
          "text": [
            "\n",
            "Scientific Calculator\n",
            "Operations: +, -, *, /, ^ (power), sqrt, log, sin, cos, tan, exit\n",
            "Result: 9.0\n"
          ]
        }
      ]
    },
    {
      "cell_type": "code",
      "source": [
        "x = 5\n",
        "print(3*x - 5)\n",
        "print(3 * (x-5))\n",
        "print(x)\n",
        "print(type(1))\n",
        "print(type('1'))\n",
        "print(str(1))\n",
        "print(int('1'))\n",
        "print(abs(-5))\n",
        "print(abs(5))\n",
        "print(len(\"Yo\"))\n",
        "print(len(\"HoHo\"))\n",
        "print(round(9.49))\n",
        "print(round(9.50))\n"
      ],
      "metadata": {
        "colab": {
          "base_uri": "https://localhost:8080/"
        },
        "id": "XTnyehxK2AVo",
        "outputId": "c94baf7a-aa1c-40ef-9561-6f9d1c68c935"
      },
      "execution_count": null,
      "outputs": [
        {
          "output_type": "stream",
          "name": "stdout",
          "text": [
            "10\n",
            "0\n",
            "5\n",
            "<class 'int'>\n",
            "<class 'str'>\n",
            "1\n",
            "1\n",
            "5\n",
            "5\n",
            "2\n",
            "4\n",
            "9\n",
            "10\n"
          ]
        }
      ]
    },
    {
      "cell_type": "code",
      "source": [
        "x = 123\n",
        "y = 456\n",
        "print(\"Easy as\", x)\n",
        "print(\"y divided by 2 is\", y / 2)\n",
        "name = input(\"What is your name? \")\n",
        "print(name, \"is\", len(name), \"letters long.\")\n",
        "print(\"That's all folks!\")\n",
        "\n"
      ],
      "metadata": {
        "colab": {
          "base_uri": "https://localhost:8080/"
        },
        "id": "tRL-W1q_3tLe",
        "outputId": "f2a64593-b0b7-4330-87d2-b8fecf793c3f"
      },
      "execution_count": null,
      "outputs": [
        {
          "output_type": "stream",
          "name": "stdout",
          "text": [
            "Easy as 123\n",
            "y divided by 2 is 228.0\n",
            "What is your name? Stacie\n",
            "Stacie is 6 letters long.\n",
            "That's all folks!\n"
          ]
        }
      ]
    }
  ]
}